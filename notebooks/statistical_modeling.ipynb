{
 "cells": [
  {
   "cell_type": "code",
   "execution_count": 1,
   "id": "5ac40826-fec6-4d9a-87f5-d082a23a2373",
   "metadata": {},
   "outputs": [
    {
     "data": {
      "text/plain": [
       "('/home/am/Documents/Software Development/10_Academy Training/week-10/brent-data-analysis/notebooks',\n",
       " '/home/am/Documents/Software Development/10_Academy Training/week-10/brent-data-analysis')"
      ]
     },
     "execution_count": 1,
     "metadata": {},
     "output_type": "execute_result"
    }
   ],
   "source": [
    "import os, sys\n",
    "curr_dir = os.getcwd()\n",
    "parent_dir = os.path.dirname(curr_dir)\n",
    "sys.path.insert(0, parent_dir)\n",
    "curr_dir, parent_dir\n"
   ]
  },
  {
   "cell_type": "code",
   "execution_count": 2,
   "id": "c34a40d8-1906-4018-8bf9-d9aab787e4cd",
   "metadata": {},
   "outputs": [],
   "source": [
    "import pandas as pd\n",
    "import numpy as np"
   ]
  },
  {
   "cell_type": "code",
   "execution_count": 3,
   "id": "69e4e421-d456-4172-afad-9cc934938ae7",
   "metadata": {},
   "outputs": [],
   "source": [
    "import warnings\n",
    "warnings.filterwarnings('ignore')"
   ]
  },
  {
   "cell_type": "code",
   "execution_count": 4,
   "id": "5a823d3b-5b20-437d-9a78-47f6437b879c",
   "metadata": {},
   "outputs": [],
   "source": [
    "processed_data_path = \"../data/BrentOilPrices.csv\""
   ]
  },
  {
   "cell_type": "code",
   "execution_count": 5,
   "id": "f3ad8f7b-8155-4b2e-89de-06a39d93f648",
   "metadata": {},
   "outputs": [],
   "source": [
    "df_processed = pd.read_csv(processed_data_path)"
   ]
  },
  {
   "cell_type": "code",
   "execution_count": 6,
   "id": "1565e3c5-1eda-448d-a57f-b31ba9433e4c",
   "metadata": {},
   "outputs": [
    {
     "data": {
      "text/plain": [
       "(5015, 2)"
      ]
     },
     "execution_count": 6,
     "metadata": {},
     "output_type": "execute_result"
    }
   ],
   "source": [
    "df_processed.shape"
   ]
  },
  {
   "cell_type": "code",
   "execution_count": null,
   "id": "74eab3fe-6f7a-4c5e-b116-3fa630c1f12a",
   "metadata": {},
   "outputs": [
    {
     "name": "stderr",
     "output_type": "stream",
     "text": [
      "WARNING (pytensor.tensor.blas): Using NumPy C-API based implementation for BLAS functions.\n"
     ]
    }
   ],
   "source": [
    "from scripts.statistical_modeling import StatisticalModel"
   ]
  },
  {
   "cell_type": "code",
   "execution_count": null,
   "id": "d0d4b00b-3322-4e4f-99c2-ad9201c61c6b",
   "metadata": {},
   "outputs": [],
   "source": [
    "statistical_model = StatisticalModel(df_processed)"
   ]
  },
  {
   "cell_type": "code",
   "execution_count": null,
   "id": "1077b9cf-40cb-470f-807e-5a9878f6df85",
   "metadata": {},
   "outputs": [],
   "source": [
    "result = statistical_model.check_stationarity()\n",
    "adf_statistic = result['ADF Statistic']\n",
    "p_value = result['p-value']\n",
    "print(f\"ADF Statistic: {adf_statistic}, \\np-value: {p_value}\")\n",
    "\n",
    "statistical_model.plot_acf_pacf()\n",
    "\n",
    "statistical_model.fit_arima()\n",
    "\n",
    "statistical_model.fit_garch()\n",
    "\n",
    "trace = statistical_model.bayesian_inference()\n",
    "statistical_model.compare_models()\n"
   ]
  },
  {
   "cell_type": "code",
   "execution_count": null,
   "id": "c1955d91-1b13-4e79-9fd8-535e96cbb704",
   "metadata": {},
   "outputs": [],
   "source": []
  }
 ],
 "metadata": {
  "kernelspec": {
   "display_name": "Python 3 (ipykernel)",
   "language": "python",
   "name": "python3"
  },
  "language_info": {
   "codemirror_mode": {
    "name": "ipython",
    "version": 3
   },
   "file_extension": ".py",
   "mimetype": "text/x-python",
   "name": "python",
   "nbconvert_exporter": "python",
   "pygments_lexer": "ipython3",
   "version": "3.8.10"
  }
 },
 "nbformat": 4,
 "nbformat_minor": 5
}
